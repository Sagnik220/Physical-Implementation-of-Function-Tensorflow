{
  "nbformat": 4,
  "nbformat_minor": 0,
  "metadata": {
    "colab": {
      "name": "Optimized Solution's",
      "provenance": []
    },
    "kernelspec": {
      "name": "python3",
      "display_name": "Python 3"
    },
    "language_info": {
      "name": "python"
    }
  },
  "cells": [
    {
      "cell_type": "code",
      "metadata": {
        "id": "9bnwBbx9LvRk"
      },
      "source": [
        "import tensorflow as tf\n",
        "import tensorflow_probability as tfp\n",
        "import numpy as np\n",
        "import numba"
      ],
      "execution_count": 1,
      "outputs": []
    },
    {
      "cell_type": "code",
      "metadata": {
        "id": "eT_9w12jMQUN"
      },
      "source": [
        "#Problem 1\n",
        "# This is an example to give you an idea\n",
        "@tf.function(autograph=False)\n",
        "def log_abs(x):\n",
        "    \"\"\"EXAMPLE IMPLEMENTATION: Return the log of the absolute of x element-wise\"\"\"\n",
        "    return tf.math.log(tf.math.abs(x))\n"
      ],
      "execution_count": 3,
      "outputs": []
    },
    {
      "cell_type": "code",
      "metadata": {
        "colab": {
          "base_uri": "https://localhost:8080/"
        },
        "id": "zc0ZLtRIMQWY",
        "outputId": "80ff6520-821c-46d8-86a5-c07f82ca250a"
      },
      "source": [
        "log_abs(5.0)"
      ],
      "execution_count": 4,
      "outputs": [
        {
          "output_type": "execute_result",
          "data": {
            "text/plain": [
              "<tf.Tensor: shape=(), dtype=float32, numpy=1.609438>"
            ]
          },
          "metadata": {
            "tags": []
          },
          "execution_count": 4
        }
      ]
    },
    {
      "cell_type": "code",
      "metadata": {
        "id": "93dkiPI2MQYf"
      },
      "source": [
        "#Problem 2\n",
        "@tf.function(autograph=False)\n",
        "def sum_cos_sin(x, coeff_cos, coeff_sin):\n",
        "    \"\"\"Return the sum of the cos and sin of x element-wise, cos and sin scaled by coeff_cos and coeff_sin respectively.\"\"\"\n",
        "    return coeff_sin * tf.math.sin(x) + coeff_cos * tf.math.cos(x)"
      ],
      "execution_count": 5,
      "outputs": []
    },
    {
      "cell_type": "code",
      "metadata": {
        "colab": {
          "base_uri": "https://localhost:8080/"
        },
        "id": "7ZPqnHPfMQap",
        "outputId": "62c0d361-b6b4-4234-c1bc-74337efb5a11"
      },
      "source": [
        "sum_cos_sin(5.0,1.0,2.0)"
      ],
      "execution_count": 6,
      "outputs": [
        {
          "output_type": "execute_result",
          "data": {
            "text/plain": [
              "<tf.Tensor: shape=(), dtype=float32, numpy=-1.6341864>"
            ]
          },
          "metadata": {
            "tags": []
          },
          "execution_count": 6
        }
      ]
    },
    {
      "cell_type": "code",
      "metadata": {
        "id": "_-ctqoOoMQcn"
      },
      "source": [
        "#Problem 3\n",
        "@tf.function(autograph=False)\n",
        "def approx_cos_p1(x):\n",
        "    \"\"\"Return the approximation of cos(x) + 1 using a taylor/series expansion up to order 7\n",
        "    Explanation: The Taylor series expansion of cos(x) + 1 is :math:`1 + \\sum_{i=0}^{i~is~even} (-1)^{i/2} x^i / i!`\n",
        "    I calculate all taylor terms separately and store them along a new axis and then sum them together.\n",
        "    Since all terms are stored in memory at one point, it takes up 4x the memory of x, which could be a problem.\n",
        "    \"\"\"\n",
        "    x = tf.cast(x, dtype=tf.float64)\n",
        "    x = tf.expand_dims(x, axis=-1)\n",
        "    order = tf.constant(7., dtype=tf.float64)\n",
        "    factorial_without_zeroth = tf.math.cumprod(tf.range(1., order+1, dtype=tf.float64))\n",
        "    factorial = tf.concat((tf.constant([1.], dtype=tf.float64), factorial_without_zeroth), axis=0)\n",
        "    i = tf.range(0., order+1., 2, dtype=tf.float64)\n",
        "\n",
        "    taylor_terms = tf.constant(-1., dtype=tf.float64) ** (i/2.) / tf.gather(factorial, tf.cast(i, tf.int32)) * x**i\n",
        "    return tf.math.reduce_sum(taylor_terms, axis=-1) + tf.constant(1., dtype=tf.float64)"
      ],
      "execution_count": 9,
      "outputs": []
    },
    {
      "cell_type": "code",
      "metadata": {
        "colab": {
          "base_uri": "https://localhost:8080/"
        },
        "id": "JZH03Pa8MQeY",
        "outputId": "ce9bab83-6396-48b7-f5da-1beac33aa722"
      },
      "source": [
        "approx_cos_p1(5.0)"
      ],
      "execution_count": 10,
      "outputs": [
        {
          "output_type": "execute_result",
          "data": {
            "text/plain": [
              "<tf.Tensor: shape=(), dtype=float64, numpy=-6.159722222222221>"
            ]
          },
          "metadata": {
            "tags": []
          },
          "execution_count": 10
        }
      ]
    },
    {
      "cell_type": "code",
      "metadata": {
        "id": "HgqZvM9NMzJf"
      },
      "source": [
        "#Problem 4\n",
        "@tf.function(autograph=False)\n",
        "def integral_exp(lower, upper):\n",
        "    \"\"\"Integrate the exponential function from lower to upper.\n",
        "    Explanation: Since the primitive function of e^x is e^x, we can simply calculate e^upper - e^lower\n",
        "    \"\"\"\n",
        "    return tf.math.exp(upper) - tf.math.exp(lower)"
      ],
      "execution_count": 11,
      "outputs": []
    },
    {
      "cell_type": "code",
      "metadata": {
        "colab": {
          "base_uri": "https://localhost:8080/"
        },
        "id": "grdp5-rnMzPQ",
        "outputId": "645b846d-ef5b-46df-db91-4382fc02ffe5"
      },
      "source": [
        "integral_exp(5.,7.)"
      ],
      "execution_count": 12,
      "outputs": [
        {
          "output_type": "execute_result",
          "data": {
            "text/plain": [
              "<tf.Tensor: shape=(), dtype=float32, numpy=948.22003>"
            ]
          },
          "metadata": {
            "tags": []
          },
          "execution_count": 12
        }
      ]
    },
    {
      "cell_type": "code",
      "metadata": {
        "id": "vCY2gki_MzRn"
      },
      "source": [
        "#Problem 5\n",
        "@tf.function(autograph=False)\n",
        "def normed_exp(x, lower, upper):\n",
        "    \"\"\"Calculate the normalized exp function `exp(x) / integral exp from lower to upper`\"\"\"\n",
        "    return tf.math.exp(x) / integral_exp(lower, upper)"
      ],
      "execution_count": 13,
      "outputs": []
    },
    {
      "cell_type": "code",
      "metadata": {
        "colab": {
          "base_uri": "https://localhost:8080/"
        },
        "id": "354j-rC0MzTj",
        "outputId": "8e8012a6-c7d4-4657-cc65-0833d38cdb7d"
      },
      "source": [
        "normed_exp(2.,1.,5.)"
      ],
      "execution_count": 14,
      "outputs": [
        {
          "output_type": "execute_result",
          "data": {
            "text/plain": [
              "<tf.Tensor: shape=(), dtype=float32, numpy=0.05071596>"
            ]
          },
          "metadata": {
            "tags": []
          },
          "execution_count": 14
        }
      ]
    },
    {
      "cell_type": "code",
      "metadata": {
        "id": "zkLXi_wcMzVl"
      },
      "source": [
        "#Problem 6\n",
        "@tf.function(autograph=False)\n",
        "def cos_exp(x):\n",
        "    \"\"\"Return the elementwise value of the function 'sum_cos_sin(x) for x < - 1; exp(x) for -1 < x < 3; cos(x) for x > 3.\n",
        "    Explanation: I use tf.where to only insert sum_cos_sin(x) where x < -1 etc.\n",
        "    One downside to the current implementation is that I calculate exp(x), cos(x), sum_cos_sin(x) for all values of x,\n",
        "    resulting in 3x as many calculations as necessary.\n",
        "    I tried to solve this problem by masking parts of x with nan values but that method was consistently slower.\n",
        "    \"\"\"\n",
        "    return tf.where(x < -1, sum_cos_sin(x, 1., 1.), tf.where(x < 3, tf.math.exp(x), tf.math.cos(x)))"
      ],
      "execution_count": 15,
      "outputs": []
    },
    {
      "cell_type": "code",
      "metadata": {
        "colab": {
          "base_uri": "https://localhost:8080/"
        },
        "id": "ChEWrao6MzXN",
        "outputId": "58c04281-c545-4c53-ac7e-a42fbca0562f"
      },
      "source": [
        "cos_exp(-2.)"
      ],
      "execution_count": 20,
      "outputs": [
        {
          "output_type": "execute_result",
          "data": {
            "text/plain": [
              "<tf.Tensor: shape=(), dtype=float32, numpy=-1.3254442>"
            ]
          },
          "metadata": {
            "tags": []
          },
          "execution_count": 20
        }
      ]
    },
    {
      "cell_type": "code",
      "metadata": {
        "colab": {
          "base_uri": "https://localhost:8080/"
        },
        "id": "G94I3WOPNVj1",
        "outputId": "c1561e43-1567-46cc-edc6-ff55860b8070"
      },
      "source": [
        "cos_exp(0.)"
      ],
      "execution_count": 18,
      "outputs": [
        {
          "output_type": "execute_result",
          "data": {
            "text/plain": [
              "<tf.Tensor: shape=(), dtype=float32, numpy=1.0>"
            ]
          },
          "metadata": {
            "tags": []
          },
          "execution_count": 18
        }
      ]
    },
    {
      "cell_type": "code",
      "metadata": {
        "colab": {
          "base_uri": "https://localhost:8080/"
        },
        "id": "JmpwRKD2NVqi",
        "outputId": "acef7a68-d187-4420-ee42-e3846e8983b5"
      },
      "source": [
        "cos_exp(4.)"
      ],
      "execution_count": 21,
      "outputs": [
        {
          "output_type": "execute_result",
          "data": {
            "text/plain": [
              "<tf.Tensor: shape=(), dtype=float32, numpy=-0.6536436>"
            ]
          },
          "metadata": {
            "tags": []
          },
          "execution_count": 21
        }
      ]
    },
    {
      "cell_type": "code",
      "metadata": {
        "id": "yECzCHTeNVs8"
      },
      "source": [
        "#Problem 7\n",
        "# use @tf.custom_gradient to add a custom gradient using again a series approximation\n",
        "@tf.function(autograph=False)\n",
        "@tf.custom_gradient\n",
        "def approx_cos_p1_custom_grad(x):\n",
        "    \"\"\"Return the approximation of cos(x) + 1 using a taylor/series expansion up to order 7 **with a custom gradient**\n",
        "    Explanation: the lines outside cos_p1_gradient (besides the first line) are taken from approx_cos_p1.\n",
        "    The explanation for the gradient is given in its own docstring.\n",
        "    \"\"\"\n",
        "    y = approx_cos_p1(x)\n",
        "\n",
        "    x = tf.cast(x, dtype=tf.float64)\n",
        "    x = tf.expand_dims(x, axis=-1)\n",
        "    order = tf.constant(7., dtype=tf.float64)\n",
        "    factorial_without_zeroth = tf.math.cumprod(tf.range(1., order+1, dtype=tf.float64))\n",
        "    factorial = tf.concat((tf.constant([1.], dtype=tf.float64), factorial_without_zeroth), axis=0)\n",
        "\n",
        "    @tf.function(autograph=False)\n",
        "    def cos_p1_gradient(dy):\n",
        "        \"\"\"Return the gradient of the taylor series of cos(x)+1, i.e. the taylor series of -sin(x).\n",
        "        Explanation: The Taylor series expansion of cos(x) + 1 is :math:`\\sum_{i=1}^{i~is~odd} (-1)^{(i+1)/2} x^i / i!`\n",
        "        Here, I use the 7th order Taylor series of -sin(x). If we want it to be the gradient of the taylor series of cos(x)+1,\n",
        "        we can simply replace order+1 with order in the first line below.\n",
        "        \"\"\"\n",
        "        i = tf.range(1., order+1, 2, dtype=tf.float64)\n",
        "        taylor_terms = tf.constant(-1., dtype=tf.float64) ** ((i+1)/2.) / tf.gather(factorial, tf.cast(i, tf.int32)) * x**i\n",
        "        return dy * tf.math.reduce_sum(taylor_terms, axis=-1)\n",
        "\n",
        "    return y, cos_p1_gradient"
      ],
      "execution_count": 22,
      "outputs": []
    },
    {
      "cell_type": "code",
      "metadata": {
        "id": "jzQaUBJhNiQn"
      },
      "source": [
        "#Problem 8\n",
        "from abc import ABC, abstractmethod\n",
        "class Func(ABC):\n",
        "    @abstractmethod\n",
        "    def value(self, x):\n",
        "        pass\n",
        "\n",
        "    @abstractmethod\n",
        "    def integral(self, lower, upper):\n",
        "        pass\n",
        "\n",
        "class CosFunc(Func):\n",
        "    def __init__(self, omega):\n",
        "        self._omega = omega\n",
        "\n",
        "    def value(self, x):\n",
        "        \"\"\"Calculate the value of cos(omega*x)\"\"\"\n",
        "        return tf.math.cos(self._omega * x)\n",
        "\n",
        "    def integral(self, lower, upper):\n",
        "        \"\"\"Calculate the integral of cos(omega*x) from lower to upper.\n",
        "        Here, I use the fact that the primitive function of cos(omega*x) is sin(omega*x)/omega\"\"\"\n",
        "        return (tf.math.sin(self._omega * upper) - tf.math.sin(self._omega * lower)) / self._omega\n",
        "\n",
        "\n",
        "# create a class CosPDF, which inherits from PDF and takes two parameters to instantiate, `lower` and `upper`.\n",
        "# Then implement the `normed_value` which is the normalized value: value / integral\n",
        "# Code provided\n",
        "class PDF(Func):\n",
        "    @abstractmethod\n",
        "    def normed_value(self, x):\n",
        "        pass\n",
        "\n",
        "class CosPDF(PDF, CosFunc):\n",
        "    def __init__(self, lower, upper):\n",
        "        # Call CosFunc.__init__ with omega=1\n",
        "        super().__init__(tf.constant(1., dtype=tf.float64))\n",
        "        self._lower = lower\n",
        "        self._upper = upper\n",
        "\n",
        "    def normed_value(self, x):\n",
        "        \"\"\"Return the normalized value of cos(x)\"\"\"\n",
        "        return self.value(x) / self.integral(self._lower, self._upper)\n",
        "\n",
        "\n",
        "if __name__ == '__main__':\n",
        "    # test the functions here\n",
        "    # it should work for both `x`\n",
        "    use_single_val = True\n",
        "    if use_single_val:\n",
        "        x = tf.constant(1., dtype=tf.float64)\n",
        "        lower = tf.constant(0.3, dtype=tf.float64)\n",
        "        upper = tf.constant(5., dtype=tf.float64)\n",
        "        coeff_sin = tf.constant(3.1, dtype=tf.float64)\n",
        "        coeff_cos = tf.constant(2.1, dtype=tf.float64)\n",
        "    else:\n",
        "        shape = (100, 30)\n",
        "        x = tf.random.uniform(shape=shape, minval=-4.5, maxval=2.3)\n",
        "        lower = tf.random.uniform(shape=shape, minval=-5.5, maxval=-5.3)\n",
        "        upper = tf.random.uniform(shape=shape, minval=4.1, maxval=5.2)\n",
        "        coeff_sin = tf.random.uniform(shape=shape, minval=3.1, maxval=5.2)\n",
        "        coeff_cos = tf.random.uniform(shape=shape, minval=1.2, maxval=2.23)\n",
        "\n",
        "    # Test that all functions run without raising any errors\n",
        "    functions = [{'function': sum_cos_sin, 'args': [x, coeff_cos, coeff_sin]},\n",
        "                 {'function': approx_cos_p1, 'args': [x]},\n",
        "                 {'function': integral_exp, 'args': [lower, upper]},\n",
        "                 {'function': normed_exp, 'args': [x, lower, upper]},\n",
        "                 {'function': cos_exp, 'args': [x]}]\n",
        "\n",
        "    for test_function_config in functions:\n",
        "        test_function_config['function'](*test_function_config['args'])\n",
        "\n",
        "    # Test that the custom gradient can be calculated without raising any errors\n",
        "    with tf.GradientTape() as tape:\n",
        "        tape.watch(x)\n",
        "        y = approx_cos_p1_custom_grad(x)\n",
        "    grad = tape.gradient(y, x)\n",
        "\n",
        "    # test the class here\n",
        "    # Arbitrarily chosen constants\n",
        "    omega = tf.constant(2., dtype=tf.float64)\n",
        "    lower = tf.constant(-1., dtype=tf.float64)\n",
        "    upper = tf.constant(8.7, dtype=tf.float64)\n",
        "    x = tf.constant(3., dtype=tf.float64)\n",
        "\n",
        "    cos_func = CosFunc(omega=omega)\n",
        "    # Value should be ~ cos(2. * 3.)\n",
        "    assert tf.abs(cos_func.value(x) - tf.math.cos(omega * x)) < 1e-10\n",
        "    # Check that the value of the integral matches the expected answer\n",
        "    #  (Value taken from https://www.wolframalpha.com/input/?i=integral+cos%282x%29+from+-1+to+8.7)\n",
        "    assert tf.abs(cos_func.integral(lower, upper) - (-0.041681)) < 1e-5\n",
        "\n",
        "    cos_pdf = CosPDF(lower, upper)\n",
        "    # Check that the normed value matches the expected answer\n",
        "    #  (Value taken from https://www.wolframalpha.com/input/?i=cos%283%29+%2F+%28integral+cos%28x%29+from+-1+to+8.7%29)\n",
        "    assert tf.abs(cos_pdf.normed_value(x) - (-0.658047)) < 1e-5\n"
      ],
      "execution_count": 28,
      "outputs": []
    }
  ]
}