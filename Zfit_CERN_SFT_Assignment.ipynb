{
  "nbformat": 4,
  "nbformat_minor": 0,
  "metadata": {
    "colab": {
      "name": "Zfit CERN SFT Assignment",
      "provenance": []
    },
    "kernelspec": {
      "name": "python3",
      "display_name": "Python 3"
    }
  },
  "cells": [
    {
      "cell_type": "markdown",
      "metadata": {
        "id": "eBbp_tcOQaF2"
      },
      "source": [
        "###Solution's to The Given Assignment!"
      ]
    },
    {
      "cell_type": "code",
      "metadata": {
        "id": "zrWC6XoBm1VK"
      },
      "source": [
        "import tensorflow as tf\r\n",
        "import tensorflow_probability as tfp\r\n",
        "import numpy as np\r\n",
        "import numba"
      ],
      "execution_count": 6,
      "outputs": []
    },
    {
      "cell_type": "code",
      "metadata": {
        "id": "Ot-a75UeprwO"
      },
      "source": [
        "#Problem 1\r\n",
        "@tf.function(autograph=False)\r\n",
        "def sum_cos_sin(x, coeff_cos, coeff_sin):\r\n",
        "    \"\"\"Return the sum of the cos and sin of x element-wise, cos and sin scaled by coeff_cos and coeff_sin respectively.\"\"\"\r\n",
        "    #First we assign s1 as a variable for sin of x element,scaled by coeff_sin\r\n",
        "    s1=tf.math.sin(tf.math.abs(x))/coeff_sin\r\n",
        "    #Secondly we assign s2 as a variable for cos of x element,scaled by coeff_cos\r\n",
        "    s2=tf.math.cos(tf.math.abs(x))/coeff_cos\r\n",
        "    #Return the sum of s1 and s2\r\n",
        "    return s1+s2\r\n",
        "    pass"
      ],
      "execution_count": 13,
      "outputs": []
    },
    {
      "cell_type": "code",
      "metadata": {
        "colab": {
          "base_uri": "https://localhost:8080/"
        },
        "id": "XNG__nszu-V8",
        "outputId": "572cf68e-d59f-4247-9da7-7ddef79e2bcd"
      },
      "source": [
        "#The Answer for the First Problem\r\n",
        "\r\n",
        "print(sum_cos_sin(0.0,1.0,1.0))"
      ],
      "execution_count": 15,
      "outputs": [
        {
          "output_type": "stream",
          "text": [
            "tf.Tensor(1.0, shape=(), dtype=float32)\n"
          ],
          "name": "stdout"
        }
      ]
    },
    {
      "cell_type": "code",
      "metadata": {
        "id": "5Bao2sCdIGq9"
      },
      "source": [
        "#Problem 2\r\n",
        "@tf.function(autograph=False)\r\n",
        "def approx_cos_p1(x):\r\n",
        "    \"\"\"Return the approximation of cos(x) + 1 using a taylor/series expansion up to order 7\"\"\"\r\n",
        "    #As we are required to find cos(x)+1 using Taylor Series Expansion Method..we intialize cos_approx=1.0\r\n",
        "    x = x * (3.142 / 180.0); \r\n",
        "    cos_approx=tf.constant(1.)\r\n",
        "    res = 1;\r\n",
        "    sign = 1; \r\n",
        "    fact = 1;\r\n",
        "    pow = 1;\r\n",
        "    order=7\r\n",
        "    for i in range(1,order):\r\n",
        "        sign = sign*(-1);\r\n",
        "        fact = fact*(2*i-1)*(2*i);\r\n",
        "        pow = pow*x*x;\r\n",
        "        res = res + sign * pow / fact;\r\n",
        "        \r\n",
        "    cos_approx+=res\r\n",
        "    return cos_approx"
      ],
      "execution_count": 77,
      "outputs": []
    },
    {
      "cell_type": "code",
      "metadata": {
        "colab": {
          "base_uri": "https://localhost:8080/"
        },
        "id": "iDiang5wJLZj",
        "outputId": "f6aafb43-2150-4291-8fae-8b53a32449c1"
      },
      "source": [
        "x=tf.constant(2.)\r\n",
        "print(approx_cos_p1(x))"
      ],
      "execution_count": 74,
      "outputs": [
        {
          "output_type": "stream",
          "text": [
            "tf.Tensor(1.9993907, shape=(), dtype=float32)\n"
          ],
          "name": "stdout"
        }
      ]
    },
    {
      "cell_type": "code",
      "metadata": {
        "id": "OR6Wz4-Le6Vy"
      },
      "source": [
        "#Problem 2 without Tensorflow\r\n",
        "import math\r\n",
        "\r\n",
        "def func_cos(x, n):\r\n",
        "    cos_approx = 1\r\n",
        "    x=x*(3.142/180)\r\n",
        "    for i in range(n):\r\n",
        "        coef = (-1)**i\r\n",
        "        num = x**(2*i)\r\n",
        "        denom = math.factorial(2*i)\r\n",
        "        cos_approx =cos_approx+(coef)*((num)/(denom))\r\n",
        "    \r\n",
        "    return cos_approx"
      ],
      "execution_count": 69,
      "outputs": []
    },
    {
      "cell_type": "code",
      "metadata": {
        "colab": {
          "base_uri": "https://localhost:8080/"
        },
        "id": "gDwVubf7e6az",
        "outputId": "cb5f2e8b-98e2-4d5b-9e9d-f386a846f807"
      },
      "source": [
        "print(func_cos(2,7))"
      ],
      "execution_count": 70,
      "outputs": [
        {
          "output_type": "stream",
          "text": [
            "1.9993906690512515\n"
          ],
          "name": "stdout"
        }
      ]
    },
    {
      "cell_type": "code",
      "metadata": {
        "id": "T0bIO_WujWD9"
      },
      "source": [
        "#Problem 3\r\n",
        "@tf.function(autograph=False)\r\n",
        "def integral_exp():\r\n",
        "    \"\"\"Integrate the exponential function from lower to upper.\"\"\"\r\n",
        "    def f(x):\r\n",
        "      return tf.math.exp(x)\r\n",
        "    \r\n",
        "    lower=0.0                         #Lower Bound\r\n",
        "    upper=5.0                         #Upper Bound\r\n",
        "    \r\n",
        "    F_int=0\r\n",
        "    dx=0.01\r\n",
        "    x=lower\r\n",
        "    while x<upper:\r\n",
        "      f_n = f(x)                       #Call the exp function\r\n",
        "      f_n_plusdx = f(x+dx)\r\n",
        "      dF = 0.5*(f_n+f_n_plusdx)*dx     # calc the trapezoid area\r\n",
        "      F_int += dF                      # sum of the integration\r\n",
        "      x+=dx                            # next dx.\r\n",
        "\r\n",
        "    return F_int"
      ],
      "execution_count": 11,
      "outputs": []
    },
    {
      "cell_type": "code",
      "metadata": {
        "colab": {
          "base_uri": "https://localhost:8080/"
        },
        "id": "LQmIbtjYjsOa",
        "outputId": "8e7dcc7a-a2f9-4698-f03d-ec01d3b10cff"
      },
      "source": [
        "integral_exp()\r\n",
        "\r\n",
        "#I was facing some issues related to giving the function call the lower and upper parameters so I shifted them inside the function definition itself"
      ],
      "execution_count": 12,
      "outputs": [
        {
          "output_type": "execute_result",
          "data": {
            "text/plain": [
              "<tf.Tensor: shape=(), dtype=float32, numpy=148.90593>"
            ]
          },
          "metadata": {
            "tags": []
          },
          "execution_count": 12
        }
      ]
    },
    {
      "cell_type": "code",
      "metadata": {
        "colab": {
          "base_uri": "https://localhost:8080/"
        },
        "id": "5X2xA8ssbMhA",
        "outputId": "447737a8-e919-49e1-f720-52816f9aa9d6"
      },
      "source": [
        "#Problem 3\r\n",
        "#Without Tensorflow\r\n",
        "from scipy.integrate import quad\r\n",
        "def integrand(t, n, x):\r\n",
        "    return math.exp(-x*t)/ t**n\r\n",
        "\r\n",
        "def expint(n, x):\r\n",
        "  return quad(integrand, 1, 2, args=(n, x))[0]\r\n",
        "\r\n",
        "vec_expint = np.vectorize(expint)\r\n",
        "\r\n",
        "vec_expint(3,np.arange(1.0,4.0,0.5))\r\n",
        "\r\n",
        "#I tried to find resources for this problem with tensorflow but was unable to find something relevant,I found out integral function using scipy for the same though"
      ],
      "execution_count": 13,
      "outputs": [
        {
          "output_type": "execute_result",
          "data": {
            "text/plain": [
              "array([0.10215862, 0.05450683, 0.02944304, 0.01607592, 0.0088595 ,\n",
              "       0.00492196])"
            ]
          },
          "metadata": {
            "tags": []
          },
          "execution_count": 13
        }
      ]
    },
    {
      "cell_type": "code",
      "metadata": {
        "id": "9LzqIqd1hi8U"
      },
      "source": [
        "#Problem 4\r\n",
        "@tf.function(autograph=False)\r\n",
        "def normed_exp(x):\r\n",
        "    \"\"\"Calculate the normalized exp function `exp(x) / integral exp from lower to upper.\"\"\"\r\n",
        "    def f(x):\r\n",
        "      return tf.math.exp(x)           #Exponential function\r\n",
        "    \r\n",
        "    lower=0.0                         #Lower Bound\r\n",
        "    upper=5.0                         #Upper Bound\r\n",
        "    F_int=0                           #value of Integral Intially\r\n",
        "    dx=0.01                           #dx\r\n",
        "    x=lower\r\n",
        "    #Calculating the integral\r\n",
        "    while x<upper:\r\n",
        "      f_n = f(x)                       #Call the exp function\r\n",
        "      f_n_plusdx = f(x+dx)\r\n",
        "      dF = 0.5*(f_n+f_n_plusdx)*dx     # calc the trapezoid area\r\n",
        "      F_int += dF                      # sum of the integration\r\n",
        "      x+=dx                            # next dx.\r\n",
        "\r\n",
        "    #Normalizing by diving exp(x) with the integral value of exp(x) from lower to upper bound\r\n",
        "    res=f(x)/F_int        #Normalized \r\n",
        "\r\n",
        "    return res"
      ],
      "execution_count": 33,
      "outputs": []
    },
    {
      "cell_type": "code",
      "metadata": {
        "colab": {
          "base_uri": "https://localhost:8080/"
        },
        "id": "Sqsly_hqhjTN",
        "outputId": "24872614-2982-4636-ab9f-2dec197e93a0"
      },
      "source": [
        "normed_exp(x=tf.constant(2.))"
      ],
      "execution_count": 34,
      "outputs": [
        {
          "output_type": "execute_result",
          "data": {
            "text/plain": [
              "<tf.Tensor: shape=(), dtype=float32, numpy=1.0067079>"
            ]
          },
          "metadata": {
            "tags": []
          },
          "execution_count": 34
        }
      ]
    },
    {
      "cell_type": "code",
      "metadata": {
        "id": "8Rf65PFRWjSf"
      },
      "source": [
        "#Problem 4 Method 2\r\n",
        "@tf.function(autograph=False)\r\n",
        "def normed_exp(x):\r\n",
        "    \"\"\"Calculate the normalized exp function `exp(x) / integral exp from lower to upper`\"\"\"\r\n",
        "    from scipy import integrate\r\n",
        "    #Defining the function of whose integration we need to find\r\n",
        "    def f(a):\r\n",
        "        return tf.math.exp(a)\r\n",
        "    #Doing the Integration\r\n",
        "    def integrated(f,x):\r\n",
        "        return tf.map_fn( lambda y: tf.py_function(lambda z: integrate.quad( f,0,z)[ 0 ], [ y ], tf.float64 ),x)\r\n",
        "    #Calling for the integrated function to calculate the integration of exp(x) from 1.0 to 5.0 for our input[where lower bound=1.0 and upper bound=5.0]\r\n",
        "    i=integrated(f,x)\r\n",
        "    #Returning the value of integration\r\n",
        "    return i\r\n",
        "\r\n"
      ],
      "execution_count": 82,
      "outputs": []
    },
    {
      "cell_type": "code",
      "metadata": {
        "colab": {
          "base_uri": "https://localhost:8080/"
        },
        "id": "1LKwJRTZWjaA",
        "outputId": "f8fb045b-e281-4934-eb5e-6b686865586e"
      },
      "source": [
        "#Taking the Input\r\n",
        "x = tf.constant([1.0, 2.0, 3.0, 4.0,5.0], dtype = tf.float64 )\r\n",
        "#Output\r\n",
        "print(normed_exp(x))\r\n"
      ],
      "execution_count": 83,
      "outputs": [
        {
          "output_type": "stream",
          "text": [
            "tf.Tensor([  1.71828183   6.38905612  19.08553659  53.5981502  147.41315804], shape=(5,), dtype=float64)\n"
          ],
          "name": "stdout"
        }
      ]
    },
    {
      "cell_type": "code",
      "metadata": {
        "id": "xGeAPctvx8-L"
      },
      "source": [
        "#Problem 5\r\n",
        "@tf.function(autograph=False)\r\n",
        "def cos_exp(x):\r\n",
        "    \"\"\"Return the elementwise value of the function 'sum_cos_sin(x) for x < - 1; exp(x) for -1 < x < 3; cos(x) for x > 3.\"\"\"\r\n",
        "    if x<-1:\r\n",
        "      y1=sum_cos_sin(x,1.0,1.0)\r\n",
        "      return y1\r\n",
        "    elif x>-1 and x<3:\r\n",
        "      y2=tf.math.exp(x)\r\n",
        "      return y2\r\n",
        "    else:\r\n",
        "      y3=tf.math.cos(x)\r\n",
        "      return y3\r\n",
        "    pass"
      ],
      "execution_count": 25,
      "outputs": []
    },
    {
      "cell_type": "code",
      "metadata": {
        "colab": {
          "base_uri": "https://localhost:8080/"
        },
        "id": "hPGph71Dx9YU",
        "outputId": "b763a2bb-95b9-4793-bed3-00a55f5b4121"
      },
      "source": [
        "#Output for Input>3\r\n",
        "cos_exp(4.)"
      ],
      "execution_count": 26,
      "outputs": [
        {
          "output_type": "execute_result",
          "data": {
            "text/plain": [
              "<tf.Tensor: shape=(), dtype=float32, numpy=-0.6536436>"
            ]
          },
          "metadata": {
            "tags": []
          },
          "execution_count": 26
        }
      ]
    },
    {
      "cell_type": "code",
      "metadata": {
        "colab": {
          "base_uri": "https://localhost:8080/"
        },
        "id": "BCMGJz1Jopd2",
        "outputId": "e4f825d6-1027-4d9a-cc6c-e74fac245391"
      },
      "source": [
        "#Output for Input<-1\r\n",
        "cos_exp(-2.)"
      ],
      "execution_count": 27,
      "outputs": [
        {
          "output_type": "execute_result",
          "data": {
            "text/plain": [
              "<tf.Tensor: shape=(), dtype=float32, numpy=0.49315056>"
            ]
          },
          "metadata": {
            "tags": []
          },
          "execution_count": 27
        }
      ]
    },
    {
      "cell_type": "code",
      "metadata": {
        "colab": {
          "base_uri": "https://localhost:8080/"
        },
        "id": "HUzDsk5GopoH",
        "outputId": "9d6d1750-1f6a-4ea8-aa89-ed29249ad4e5"
      },
      "source": [
        "#Output for Input lying bet -1 and 3\r\n",
        "cos_exp(2.)"
      ],
      "execution_count": 64,
      "outputs": [
        {
          "output_type": "execute_result",
          "data": {
            "text/plain": [
              "<tf.Tensor: shape=(), dtype=float32, numpy=7.389056>"
            ]
          },
          "metadata": {
            "tags": []
          },
          "execution_count": 64
        }
      ]
    },
    {
      "cell_type": "code",
      "metadata": {
        "colab": {
          "base_uri": "https://localhost:8080/"
        },
        "id": "1xrEYhBMovYP",
        "outputId": "7e1e52bf-8d42-4103-a6ca-28907bfbd4ab"
      },
      "source": [
        "#Problem 6\r\n",
        "@tf.function(autograph=False)\r\n",
        "@tf.custom_gradient\r\n",
        "def approx_cos_p1_custom_grad(x):\r\n",
        "    \"\"\"Return the approximation of cos(x) + 1 using a taylor/series expansion up to order 7 **with a custom gradient**\"\"\"\r\n",
        "    def grad(dy):\r\n",
        "      dy_dx=-tf.math.sin(x)\r\n",
        "      return dy*dy_dx\r\n",
        "    z=approx_cos_p1(x)\r\n",
        "    return z,grad\r\n",
        "x=tf.constant(2.0,dtype=tf.float32)\r\n",
        "with tf.GradientTape(persistent=True) as tape:\r\n",
        "  tape.watch(x)\r\n",
        "  z =approx_cos_p1_custom_grad(x)\r\n",
        "z\r\n"
      ],
      "execution_count": 80,
      "outputs": [
        {
          "output_type": "execute_result",
          "data": {
            "text/plain": [
              "<tf.Tensor: shape=(), dtype=float32, numpy=1.9993907>"
            ]
          },
          "metadata": {
            "tags": []
          },
          "execution_count": 80
        }
      ]
    },
    {
      "cell_type": "code",
      "metadata": {
        "id": "Mkc5sUoikEHS"
      },
      "source": [
        "#Problem 7\r\n",
        "#Importing Libraries\r\n",
        "from abc import ABC, abstractmethod\r\n",
        "#The abstract class Func\r\n",
        "class Func(ABC):\r\n",
        "    @abstractmethod\r\n",
        "    def value(self, x):\r\n",
        "        pass\r\n",
        "\r\n",
        "    @abstractmethod\r\n",
        "    def integral(self, lower, upper):\r\n",
        "        pass\r\n",
        "#Our defined class CosFunc that inherits from the abstract class Func\r\n",
        "class CosFunc(Func):\r\n",
        "  def __init__(self):\r\n",
        "    pass\r\n",
        "#Value Function returns value of cos(omega) by taking 1 value/omega\r\n",
        "  def value(self,omega):\r\n",
        "    print(tf.math.cos(omega))\r\n",
        "#Integral calculates the integral value of cos(x) from a lower to upper bound\r\n",
        "  def integral(self,lower,upper):\r\n",
        "\r\n",
        "    def f(x):\r\n",
        "      return tf.math.cos(x)\r\n",
        "    \r\n",
        "    F_int=0\r\n",
        "    dx=0.01\r\n",
        "    x=lower\r\n",
        "    while x<upper:\r\n",
        "      f_n = f(x)                       #Call the cos(x) function\r\n",
        "      f_n_plusdx = f(x+dx)\r\n",
        "      dF = 0.5*(f_n+f_n_plusdx)*dx     # calc the trapezoid area\r\n",
        "      F_int += dF                      # sum of the integration\r\n",
        "      x+=dx                            # next dx.\r\n",
        "\r\n",
        "    print(F_int)"
      ],
      "execution_count": 81,
      "outputs": []
    },
    {
      "cell_type": "code",
      "metadata": {
        "colab": {
          "base_uri": "https://localhost:8080/"
        },
        "id": "NnwVhtwgRiIc",
        "outputId": "0fa1b8ce-0207-4231-cbcd-5f52f0ea3b5d"
      },
      "source": [
        "#Output\r\n",
        "y=CosFunc()\r\n",
        "y.value(omega=tf.constant(2.))      #Value of o/p for omega in degrees\r\n",
        "y.integral(lower=tf.constant(0.),upper=tf.constant(5.))"
      ],
      "execution_count": 170,
      "outputs": [
        {
          "output_type": "stream",
          "text": [
            "tf.Tensor(-0.41614684, shape=(), dtype=float32)\n",
            "tf.Tensor(-0.95890707, shape=(), dtype=float32)\n"
          ],
          "name": "stdout"
        }
      ]
    },
    {
      "cell_type": "code",
      "metadata": {
        "id": "YSI1AU_mZNxp"
      },
      "source": [
        "#The abstract class Func\r\n",
        "class PDF(CosFunc):\r\n",
        "    @abstractmethod\r\n",
        "    def normed_value(self, x):\r\n",
        "        pass\r\n",
        "class CosPDF(PDF):\r\n",
        "  def __init__(self):\r\n",
        "    pass\r\n",
        "  def normed_value(self,x,lower,upper):\r\n",
        "    def f(x):\r\n",
        "      return x\r\n",
        "    F_int=0\r\n",
        "    dx=0.01\r\n",
        "    x=lower\r\n",
        "    while x<upper:\r\n",
        "      f_n = f(x)                       #Call the function which is x\r\n",
        "      f_n_plusdx = f(x+dx)\r\n",
        "      dF = 0.5*(f_n+f_n_plusdx)*dx     # calc the trapezoid area\r\n",
        "      F_int += dF                      # sum of the integration\r\n",
        "      x+=dx                            # next dx.\r\n",
        "\r\n",
        "    print(F_int)"
      ],
      "execution_count": 87,
      "outputs": []
    },
    {
      "cell_type": "code",
      "metadata": {
        "colab": {
          "base_uri": "https://localhost:8080/"
        },
        "id": "CHwZr_Gtf0Je",
        "outputId": "c71991ed-bc19-4581-f801-d51489e5534e"
      },
      "source": [
        "cos_pdf=CosPDF()\r\n",
        "cos_pdf.normed_value(tf.constant(2.),tf.constant(0.),tf.constant(3.))\r\n",
        "#I changed the code a little bit instead of inheriting the values from Func for the PDF class I inherited from the CosFunc class to instantiate the lower and upper values to calculate the integral of x"
      ],
      "execution_count": 167,
      "outputs": [
        {
          "output_type": "stream",
          "text": [
            "tf.Tensor(4.530047, shape=(), dtype=float32)\n"
          ],
          "name": "stdout"
        }
      ]
    },
    {
      "cell_type": "code",
      "metadata": {
        "id": "nxGz1O4-SOLY"
      },
      "source": [
        "@tf.function(autograph=False)\r\n",
        "def log_abs(x):\r\n",
        "    return tf.math.log(tf.math.abs(x))"
      ],
      "execution_count": 84,
      "outputs": []
    },
    {
      "cell_type": "code",
      "metadata": {
        "colab": {
          "base_uri": "https://localhost:8080/"
        },
        "id": "bAuclUDESHf0",
        "outputId": "a3517aed-3aa0-4565-8946-d3c455fd5b4c"
      },
      "source": [
        "if __name__ == '__main__':\r\n",
        "    # test the functions here\r\n",
        "    # it should work for both `x`\r\n",
        "    use_single_val = True\r\n",
        "    if use_single_val:\r\n",
        "        x = tf.constant(1., dtype=tf.float64)\r\n",
        "        lower = tf.constant(0.3, dtype=tf.float64)\r\n",
        "        upper = tf.constant(5., dtype=tf.float64)\r\n",
        "        coeff_sin = tf.constant(3.1, dtype=tf.float64)\r\n",
        "        coeff_cos = tf.constant(2.1, dtype=tf.float64)\r\n",
        "    else:\r\n",
        "        shape = (10, 3)\r\n",
        "        x = tf.random.uniform(shape=shape, minval=-4.5, maxval=2.3)\r\n",
        "        lower = tf.random.uniform(shape=shape, minval=-5.5, maxval=-5.3)\r\n",
        "        upper = tf.random.uniform(shape=shape, minval=4.1, maxval=5.2)\r\n",
        "        coeff_sin = tf.random.uniform(shape=shape, minval=3.1, maxval=5.2)\r\n",
        "        coeff_cos = tf.random.uniform(shape=shape, minval=1.2, maxval=2.23)\r\n",
        "    print(log_abs(x))\r\n",
        "\r\n",
        "    with tf.GradientTape() as tape:\r\n",
        "        tape.watch(x)\r\n",
        "        # your function here\r\n",
        "        y = log_abs(x)\r\n",
        "    grad = tape.gradient(y, x)\r\n",
        "    print(grad)\r\n",
        "\r\n",
        "    cos_func =CosFunc()\r\n",
        "    cos_val =cos_func.value(tf.constant(3.))\r\n",
        "    cos_pdf =CosPDF()\r\n",
        "    cos_pdf.normed_value(tf.constant(2.),tf.constant(0.),tf.constant(3.))"
      ],
      "execution_count": 88,
      "outputs": [
        {
          "output_type": "stream",
          "text": [
            "tf.Tensor(0.0, shape=(), dtype=float64)\n",
            "tf.Tensor(1.0, shape=(), dtype=float64)\n",
            "tf.Tensor(-0.9899925, shape=(), dtype=float32)\n",
            "tf.Tensor(4.530047, shape=(), dtype=float32)\n"
          ],
          "name": "stdout"
        }
      ]
    }
  ]
}